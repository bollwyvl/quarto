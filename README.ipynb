{
 "cells": [
  {
   "cell_type": "markdown",
   "metadata": {},
   "source": [
    "# Jupyter Quarto\n",
    "<img class=pull-right\"\" src=\"http://upload.wikimedia.org/wikipedia/commons/5/5f/Pleiades_Sidereus_Nuncius.png\"/>\n",
    "> Beautiful Computing Jupyter Notebook\n",
    "\n",
    "_Quarto_ makes the jupyter notebook into a low-distraction, computable publishing environment. Informed by [beautiful](http://www.gutenberg.org/files/46036/46036-h/46036-h.htm) [books](http://www.gutenberg.org/ebooks/7825), _Quarto_ wants to be the ideal environment for capturing your thoughts, computable.\n",
    "\n",
    "## Features\n",
    "- Document-first, mobile-first, cloud-first\n",
    "- Annotation\n",
    "- Linked data"
   ]
  },
  {
   "cell_type": "code",
   "execution_count": null,
   "metadata": {
    "collapsed": true
   },
   "outputs": [],
   "source": []
  }
 ],
 "metadata": {
  "kernelspec": {
   "display_name": "Python 3",
   "language": "python",
   "name": "python3"
  },
  "language_info": {
   "codemirror_mode": {
    "name": "ipython",
    "version": 3
   },
   "file_extension": ".py",
   "mimetype": "text/x-python",
   "name": "python",
   "nbconvert_exporter": "python",
   "pygments_lexer": "ipython3",
   "version": "3.4.2"
  }
 },
 "nbformat": 4,
 "nbformat_minor": 0
}
