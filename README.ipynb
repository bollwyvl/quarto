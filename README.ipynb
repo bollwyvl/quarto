{
 "cells": [
  {
   "cell_type": "markdown",
   "metadata": {},
   "source": [
    "# ![Quarto: Beautiful Computing](./mockup/logo.svg)\n",
    "\n",
    "<img style=\"margin: 0 20px 20px 0\" class=\"pull-left col-md-2\" src=\"http://upload.wikimedia.org/wikipedia/commons/5/5f/Pleiades_Sidereus_Nuncius.png\"/>\n",
    "\n",
    "A frontend for [Jupyter](http://jupyter.org) aimed at low-distraction, computable publishing. Informed by [beautiful](http://www.gutenberg.org/files/46036/46036-h/46036-h.htm) [books](http://www.gutenberg.org/ebooks/7825), _Quarto_ wants to be the ideal environment for capturing your thoughts, computable.\n",
    "\n",
    "## Features\n",
    "- Document-first, mobile-first, cloud-first\n",
    "- Annotation\n",
    "- Linked data"
   ]
  },
  {
   "cell_type": "markdown",
   "metadata": {
    "collapsed": true
   },
   "source": [
    "## Installation\n",
    "> **TODO: this**\n",
    "\n",
    "To install the latest tagged release, \n",
    "```bash\n",
    "pip install jupyter-quarto\n",
    "```\n",
    "\n",
    "To install the current `master`,\n",
    "```bash\n",
    "pip install --pre jupyter-quarto\n",
    "```"
   ]
  },
  {
   "cell_type": "markdown",
   "metadata": {},
   "source": [
    "## Constraints\n",
    "- Do\n",
    "  - adhere to best practices from letterpress, human factors, etc. \n",
    "- Don't\n",
    "  - introduce any changes to the notebook format\n",
    "  - have any buttons/images that an author doesn't put there"
   ]
  },
  {
   "cell_type": "markdown",
   "metadata": {},
   "source": [
    "## Literate Computing\n",
    "\n",
    "Like [Literate Coffeescript](http://jashkenas.github.io/docco/), a _Quarto_ document is presented at its root as a Markdown document...\n",
    "\n",
    "> `ISSUE: Allow AsciiDoc, Jade, whatever for root document`\n",
    "\n",
    "... where the granular level is at that of the _[quarto](http://en.wikipedia.org/wiki/Quarto)_ page, stored in `/metadata.quarto`. Pages can optionally break at the cell level. In addition to ensuring the printability of the document, this encourages concise structure and scalability to devices...\n",
    "\n",
    "When a user makes an indented block (or fenced code block), that cell is split, with the newly created cell treated as code in the current kernel... which can be indicated initially with a `gfm` fenced language block.\n",
    "```markdown\n",
    "    ```python\n",
    "    ` ` `\n",
    "```"
   ]
  },
  {
   "cell_type": "markdown",
   "metadata": {},
   "source": [
    "## Cell Output\n",
    "Cells are executed with `ctrl+enter` or `shift+enter`, and any output is selectably injected into:\n",
    "\n",
    "- inline\n",
    "\n",
    "> TODO: Consider\n",
    "  - in the previous/next page `ctrl+←`, `ctrl+→`\n",
    "  - in the margin"
   ]
  },
  {
   "cell_type": "markdown",
   "metadata": {},
   "source": [
    "## Console\n",
    "The visor-style console gives ready access to in-browser commands like:\n",
    "- `save()` (a la regular notebook)\n",
    "- save to `gist()`\n",
    "- `s/earch/replace`"
   ]
  },
  {
   "cell_type": "markdown",
   "metadata": {},
   "source": [
    "# Cross-browser, cross-device\n",
    "|Device| Number of pages |\n",
    "|------|-|\n",
    "| Large Format | 6 up\n",
    "| Desktop | 1 or 2\n",
    "| Tablet | 1 (portrait) or 2 (landscape)"
   ]
  },
  {
   "cell_type": "markdown",
   "metadata": {},
   "source": [
    "## Fold-outs\n",
    "Additionally, folded pages can be created, employing horizontal (and/or vertical) scroll, for large dashboard/poster-like experiences."
   ]
  },
  {
   "cell_type": "markdown",
   "metadata": {},
   "source": [
    "## Margins\n",
    "\n",
    "Because of the assumptions about the page size, scribbles and notes, footnotes are possible, but can be disabled as a layer. Additionally, these can contain edits from multiple users."
   ]
  },
  {
   "cell_type": "markdown",
   "metadata": {},
   "source": [
    "## Keyboard\n",
    "- `ctrl+esc` toggle the console\n",
    "- `ctrl+enter` run cell  **TODO**\n",
    "- `shift+enter` run cell, and go to next cell, insert **TODO**\n"
   ]
  }
 ],
 "metadata": {
  "kernelspec": {
   "display_name": "Python 3",
   "language": "python",
   "name": "python3"
  },
  "language_info": {
   "codemirror_mode": {
    "name": "ipython",
    "version": 3
   },
   "file_extension": ".py",
   "mimetype": "text/x-python",
   "name": "python",
   "nbconvert_exporter": "python",
   "pygments_lexer": "ipython3",
   "version": "3.4.2"
  }
 },
 "nbformat": 4,
 "nbformat_minor": 0
}
